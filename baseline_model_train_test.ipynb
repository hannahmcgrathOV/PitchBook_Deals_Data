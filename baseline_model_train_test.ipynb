{
 "cells": [
  {
   "cell_type": "markdown",
   "metadata": {},
   "source": [
    "### Import required libraries"
   ]
  },
  {
   "cell_type": "code",
   "execution_count": 1,
   "metadata": {},
   "outputs": [],
   "source": [
    "import matplotlib.pyplot as plt\n",
    "import numpy as np\n",
    "import pandas as pd\n",
    "import seaborn as sns\n",
    "\n",
    "from sklearn.model_selection import train_test_split\n",
    "from sklearn.preprocessing import LabelEncoder\n",
    "from sklearn.ensemble import RandomForestRegressor\n",
    "from sklearn.metrics import mean_squared_error, mean_absolute_error, mean_absolute_percentage_error\n",
    "\n",
    "import warnings\n",
    "warnings.filterwarnings('ignore')"
   ]
  },
  {
   "cell_type": "markdown",
   "metadata": {},
   "source": [
    "### Load the dataset"
   ]
  },
  {
   "cell_type": "code",
   "execution_count": 2,
   "metadata": {},
   "outputs": [],
   "source": [
    "df = pd.read_excel(\"../datasets/Predictive Variables Experiments_vMaster (Cleaned).xlsx\", sheet_name='Data Set', header=2, engine='openpyxl' )"
   ]
  },
  {
   "cell_type": "markdown",
   "metadata": {},
   "source": [
    "## Data Preprocessing"
   ]
  },
  {
   "cell_type": "markdown",
   "metadata": {},
   "source": [
    "#### Numerical Variables"
   ]
  },
  {
   "cell_type": "code",
   "execution_count": 3,
   "metadata": {},
   "outputs": [
    {
     "data": {
      "text/plain": [
       "((2317, 56), (2380, 56))"
      ]
     },
     "execution_count": 3,
     "metadata": {},
     "output_type": "execute_result"
    }
   ],
   "source": [
    "numerical_cols = [\"DEAL_SIZE\", \"PRE_MONEY_VALUATION\", \"POST_VALUATION\", \"RAISED_TO_DATE\", \"Market Size Estimate\"]\n",
    "\n",
    "numerical_vars_with_na = [var for var in numerical_cols if df[var].isnull().sum()>0]\n",
    "\n",
    "\n",
    "df_cleaned_num = df.dropna(subset=numerical_vars_with_na)\n",
    "df_cleaned_num.shape, df.shape"
   ]
  },
  {
   "cell_type": "markdown",
   "metadata": {},
   "source": [
    "#### Temporal Variables"
   ]
  },
  {
   "cell_type": "code",
   "execution_count": 4,
   "metadata": {},
   "outputs": [
    {
     "data": {
      "text/plain": [
       "17"
      ]
     },
     "execution_count": 4,
     "metadata": {},
     "output_type": "execute_result"
    }
   ],
   "source": [
    "# Temporal variables in train_df_cleaned\n",
    "temporal_vars = ['DEAL_DATE', 'YEAR_FOUNDED']\n",
    "\n",
    "# Processing DEAL_DATE, since some entries are Excel's serial date numbers!!\n",
    "def convert_date(datapoint):\n",
    "\n",
    "    if isinstance(datapoint, str):\n",
    "        return pd.to_datetime(datapoint, errors='coerce')\n",
    "    \n",
    "    elif isinstance(datapoint, (int, float)):\n",
    "        return pd.Timestamp('1899-12-30') + pd.to_timedelta(datapoint, unit='D')\n",
    "    \n",
    "    return datapoint\n",
    "\n",
    "\n",
    "df_cleaned_num['DEAL_DATE'] = df_cleaned_num['DEAL_DATE'].apply(convert_date)\n",
    "\n",
    "df_cleaned_num['YEAR_FOUNDED'].isnull().sum()"
   ]
  },
  {
   "cell_type": "code",
   "execution_count": 5,
   "metadata": {},
   "outputs": [
    {
     "data": {
      "text/html": [
       "<div>\n",
       "<style scoped>\n",
       "    .dataframe tbody tr th:only-of-type {\n",
       "        vertical-align: middle;\n",
       "    }\n",
       "\n",
       "    .dataframe tbody tr th {\n",
       "        vertical-align: top;\n",
       "    }\n",
       "\n",
       "    .dataframe thead th {\n",
       "        text-align: right;\n",
       "    }\n",
       "</style>\n",
       "<table border=\"1\" class=\"dataframe\">\n",
       "  <thead>\n",
       "    <tr style=\"text-align: right;\">\n",
       "      <th></th>\n",
       "      <th>TRAIN_OR_TEST</th>\n",
       "      <th>COMPANIES</th>\n",
       "      <th>COMPANY_WEBSITE</th>\n",
       "      <th>COMPANY_CITY</th>\n",
       "    </tr>\n",
       "  </thead>\n",
       "  <tbody>\n",
       "    <tr>\n",
       "      <th>242</th>\n",
       "      <td>Train</td>\n",
       "      <td>Securly</td>\n",
       "      <td>www.securly.com</td>\n",
       "      <td>Charlotte</td>\n",
       "    </tr>\n",
       "    <tr>\n",
       "      <th>276</th>\n",
       "      <td>Train</td>\n",
       "      <td>Reconstruct</td>\n",
       "      <td>www.reconstructinc.com</td>\n",
       "      <td>Menlo Park</td>\n",
       "    </tr>\n",
       "    <tr>\n",
       "      <th>395</th>\n",
       "      <td>Train</td>\n",
       "      <td>Imagry</td>\n",
       "      <td>www.imagry.co</td>\n",
       "      <td>San Jose</td>\n",
       "    </tr>\n",
       "    <tr>\n",
       "      <th>398</th>\n",
       "      <td>Train</td>\n",
       "      <td>Systum</td>\n",
       "      <td>www.systum.com</td>\n",
       "      <td>Plano</td>\n",
       "    </tr>\n",
       "    <tr>\n",
       "      <th>539</th>\n",
       "      <td>Train</td>\n",
       "      <td>Bdeo</td>\n",
       "      <td>www.bdeo.io</td>\n",
       "      <td>Madrid</td>\n",
       "    </tr>\n",
       "    <tr>\n",
       "      <th>659</th>\n",
       "      <td>Train</td>\n",
       "      <td>Reconstruct</td>\n",
       "      <td>www.reconstructinc.com</td>\n",
       "      <td>Menlo Park</td>\n",
       "    </tr>\n",
       "    <tr>\n",
       "      <th>707</th>\n",
       "      <td>Train</td>\n",
       "      <td>Waybridge</td>\n",
       "      <td>www.waybridge.com</td>\n",
       "      <td>New York</td>\n",
       "    </tr>\n",
       "    <tr>\n",
       "      <th>1220</th>\n",
       "      <td>Train</td>\n",
       "      <td>Genies</td>\n",
       "      <td>www.genies.com</td>\n",
       "      <td>West Hollywood</td>\n",
       "    </tr>\n",
       "    <tr>\n",
       "      <th>1254</th>\n",
       "      <td>Train</td>\n",
       "      <td>Axios Media</td>\n",
       "      <td>www.axios.com</td>\n",
       "      <td>Arlington</td>\n",
       "    </tr>\n",
       "    <tr>\n",
       "      <th>1300</th>\n",
       "      <td>Train</td>\n",
       "      <td>LeaseLock</td>\n",
       "      <td>www.leaselock.com</td>\n",
       "      <td>Marina del Rey</td>\n",
       "    </tr>\n",
       "    <tr>\n",
       "      <th>1638</th>\n",
       "      <td>Train</td>\n",
       "      <td>Arcus</td>\n",
       "      <td>www.arcusfi.com</td>\n",
       "      <td>New York</td>\n",
       "    </tr>\n",
       "    <tr>\n",
       "      <th>1711</th>\n",
       "      <td>Train</td>\n",
       "      <td>Cover (Financial Software)</td>\n",
       "      <td>www.cover.com</td>\n",
       "      <td>San Francisco</td>\n",
       "    </tr>\n",
       "    <tr>\n",
       "      <th>1722</th>\n",
       "      <td>Train</td>\n",
       "      <td>LeaseLock</td>\n",
       "      <td>www.leaselock.com</td>\n",
       "      <td>Marina del Rey</td>\n",
       "    </tr>\n",
       "    <tr>\n",
       "      <th>1769</th>\n",
       "      <td>Train</td>\n",
       "      <td>Arcus</td>\n",
       "      <td>www.arcusfi.com</td>\n",
       "      <td>New York</td>\n",
       "    </tr>\n",
       "    <tr>\n",
       "      <th>1818</th>\n",
       "      <td>Test</td>\n",
       "      <td>Versatile</td>\n",
       "      <td>www.versatile.ai</td>\n",
       "      <td>Boca Raton</td>\n",
       "    </tr>\n",
       "    <tr>\n",
       "      <th>2007</th>\n",
       "      <td>Test</td>\n",
       "      <td>Versatile</td>\n",
       "      <td>www.versatile.ai</td>\n",
       "      <td>Boca Raton</td>\n",
       "    </tr>\n",
       "    <tr>\n",
       "      <th>2235</th>\n",
       "      <td>Test</td>\n",
       "      <td>Axios Media</td>\n",
       "      <td>www.axios.com</td>\n",
       "      <td>Arlington</td>\n",
       "    </tr>\n",
       "  </tbody>\n",
       "</table>\n",
       "</div>"
      ],
      "text/plain": [
       "     TRAIN_OR_TEST                   COMPANIES         COMPANY_WEBSITE  \\\n",
       "242          Train                     Securly         www.securly.com   \n",
       "276          Train                 Reconstruct  www.reconstructinc.com   \n",
       "395          Train                      Imagry           www.imagry.co   \n",
       "398          Train                      Systum          www.systum.com   \n",
       "539          Train                        Bdeo             www.bdeo.io   \n",
       "659          Train                 Reconstruct  www.reconstructinc.com   \n",
       "707          Train                   Waybridge       www.waybridge.com   \n",
       "1220         Train                      Genies          www.genies.com   \n",
       "1254         Train                 Axios Media           www.axios.com   \n",
       "1300         Train                   LeaseLock       www.leaselock.com   \n",
       "1638         Train                       Arcus         www.arcusfi.com   \n",
       "1711         Train  Cover (Financial Software)           www.cover.com   \n",
       "1722         Train                   LeaseLock       www.leaselock.com   \n",
       "1769         Train                       Arcus         www.arcusfi.com   \n",
       "1818          Test                   Versatile        www.versatile.ai   \n",
       "2007          Test                   Versatile        www.versatile.ai   \n",
       "2235          Test                 Axios Media           www.axios.com   \n",
       "\n",
       "        COMPANY_CITY  \n",
       "242        Charlotte  \n",
       "276       Menlo Park  \n",
       "395         San Jose  \n",
       "398            Plano  \n",
       "539           Madrid  \n",
       "659       Menlo Park  \n",
       "707         New York  \n",
       "1220  West Hollywood  \n",
       "1254       Arlington  \n",
       "1300  Marina del Rey  \n",
       "1638        New York  \n",
       "1711   San Francisco  \n",
       "1722  Marina del Rey  \n",
       "1769        New York  \n",
       "1818      Boca Raton  \n",
       "2007      Boca Raton  \n",
       "2235       Arlington  "
      ]
     },
     "execution_count": 5,
     "metadata": {},
     "output_type": "execute_result"
    }
   ],
   "source": [
    "df_cleaned_num[['TRAIN_OR_TEST', 'COMPANIES', 'COMPANY_WEBSITE', 'COMPANY_CITY']][df_cleaned_num['YEAR_FOUNDED'].isnull()]"
   ]
  },
  {
   "cell_type": "markdown",
   "metadata": {},
   "source": [
    "- Duplicate entries are present in the data"
   ]
  },
  {
   "cell_type": "code",
   "execution_count": 6,
   "metadata": {},
   "outputs": [],
   "source": [
    "df_cleaned_num.drop_duplicates(subset='COMPANIES', keep='first', inplace=True)"
   ]
  },
  {
   "cell_type": "code",
   "execution_count": 7,
   "metadata": {},
   "outputs": [],
   "source": [
    "df_cleaned_num['YEAR_FOUNDED'][df_cleaned_num['COMPANIES']=='Arcus'] = '2018'\n",
    "df_cleaned_num['YEAR_FOUNDED'][df_cleaned_num['COMPANIES']=='Reconstruct'] = '2016'\n",
    "df_cleaned_num['YEAR_FOUNDED'][df_cleaned_num['COMPANIES']=='Imagry'] = '2015'\n",
    "df_cleaned_num['YEAR_FOUNDED'][df_cleaned_num['COMPANIES']=='Bdeo'] = '2017'\n",
    "df_cleaned_num['YEAR_FOUNDED'][df_cleaned_num['COMPANIES']=='Cover (Financial Software)'] = '2016'\n",
    "df_cleaned_num['YEAR_FOUNDED'][df_cleaned_num['COMPANIES']=='LeaseLock'] = '2016'\n",
    "df_cleaned_num['YEAR_FOUNDED'][df_cleaned_num['COMPANIES']=='Systum'] = '2015'\n",
    "df_cleaned_num['YEAR_FOUNDED'][df_cleaned_num['COMPANIES']=='Axios Media'] = '2017'\n",
    "df_cleaned_num['YEAR_FOUNDED'][df_cleaned_num['COMPANIES']=='Securly'] = '2012'\n",
    "df_cleaned_num['YEAR_FOUNDED'][df_cleaned_num['COMPANIES']=='Genies'] = '2017'\n",
    "df_cleaned_num['YEAR_FOUNDED'][df_cleaned_num['COMPANIES']=='Waybridge'] = '2019'\n",
    "df_cleaned_num['YEAR_FOUNDED'][df_cleaned_num['COMPANIES']=='Versatile'] = '2016'"
   ]
  },
  {
   "cell_type": "code",
   "execution_count": 8,
   "metadata": {},
   "outputs": [],
   "source": [
    "# Formatting the YEAR_FOUNDED column into datetime type\n",
    "df_cleaned_num['YEAR_FOUNDED'] = pd.to_datetime(df_cleaned_num['YEAR_FOUNDED'].astype(int).astype(str), format='%Y')\n",
    "df_cleaned_num['FOUNDED_YEAR'] = df_cleaned_num['YEAR_FOUNDED'].dt.year"
   ]
  },
  {
   "cell_type": "code",
   "execution_count": 9,
   "metadata": {},
   "outputs": [],
   "source": [
    "# Extracting DAYS_FROM_DEAL from 'DEAL_DATE'\n",
    "df_cleaned_num['DAYS_FROM_DEAL'] = (pd.Timestamp.today() - df_cleaned_num['DEAL_DATE']).dt.days\n",
    "\n",
    "# Extracting DEAL_MONTH from 'DEAL_DATE'\n",
    "df_cleaned_num['DEAL_MONTH'] = df_cleaned_num['DEAL_DATE'].dt.month"
   ]
  },
  {
   "cell_type": "markdown",
   "metadata": {},
   "source": [
    "#### Categorical Variables"
   ]
  },
  {
   "cell_type": "code",
   "execution_count": 10,
   "metadata": {},
   "outputs": [],
   "source": [
    "# Mapping Valuations\n",
    "valuation_mappings = {'1. $5M - $25M': 1, '2. $25M - $50M': 2, '3. $50M - $100M': 3,\n",
    "                      '4. $100M - $150M':4, '5. $400M - $1B':5, '6. >$1B':6}\n",
    "\n",
    "df_cleaned_num['Valuation Tier'] = df_cleaned_num['Valuation Tier'].map(valuation_mappings)"
   ]
  },
  {
   "cell_type": "markdown",
   "metadata": {},
   "source": [
    "#### Excluding variables which contain less than 5 entries of a category"
   ]
  },
  {
   "cell_type": "code",
   "execution_count": 31,
   "metadata": {},
   "outputs": [],
   "source": [
    "# Final Variables\n",
    "\n",
    "categorical_vars = [\"TRAIN_OR_TEST\", \"COMPANIES\", \"FOUNDED_YEAR\", \"DEAL_MONTH\", \"PRIMARY_INDUSTRY_SECTOR\",\n",
    "                    \"Market Size Estimate\", \"S&M Prior Role\", \"Finance Prior Role\", \"Valuation Tier\", \n",
    "                    \"Quality Deals Investors\", \"Firms: Best Investors\", \"Firm: Worst\", \"Top Law Firm\"\n",
    "]\n",
    "\n",
    "\n",
    "numerical_vars = [\"DAYS_FROM_DEAL\", \"DEAL_SIZE\", \"PRE_MONEY_VALUATION\", \"POST_VALUATION\", \"RAISED_TO_DATE\"]\n",
    "\n",
    "target_var = [\"IMPLIED_RETURN\"]"
   ]
  },
  {
   "cell_type": "code",
   "execution_count": 32,
   "metadata": {},
   "outputs": [],
   "source": [
    "df_cleaned_num_cat = df_cleaned_num[temporal_vars+numerical_vars+categorical_vars+target_var]"
   ]
  },
  {
   "cell_type": "code",
   "execution_count": 33,
   "metadata": {},
   "outputs": [],
   "source": [
    "# Removing the single entry category 'Materials and Resources' from 'PRIMARY_INDUSTRY_SECTOR'\n",
    "df_cleaned_num_cat = df_cleaned_num_cat[df_cleaned_num_cat['PRIMARY_INDUSTRY_SECTOR'] != 'Materials and Resources']"
   ]
  },
  {
   "cell_type": "code",
   "execution_count": 34,
   "metadata": {},
   "outputs": [
    {
     "data": {
      "text/plain": [
       "DEAL_DATE                  0\n",
       "YEAR_FOUNDED               0\n",
       "DAYS_FROM_DEAL             0\n",
       "DEAL_SIZE                  0\n",
       "PRE_MONEY_VALUATION        0\n",
       "POST_VALUATION             0\n",
       "RAISED_TO_DATE             0\n",
       "TRAIN_OR_TEST              0\n",
       "COMPANIES                  0\n",
       "FOUNDED_YEAR               0\n",
       "DEAL_MONTH                 0\n",
       "PRIMARY_INDUSTRY_SECTOR    0\n",
       "Market Size Estimate       0\n",
       "S&M Prior Role             0\n",
       "Finance Prior Role         0\n",
       "Valuation Tier             0\n",
       "Quality Deals Investors    0\n",
       "Firms: Best Investors      0\n",
       "Firm: Worst                0\n",
       "Top Law Firm               0\n",
       "IMPLIED_RETURN             0\n",
       "dtype: int64"
      ]
     },
     "execution_count": 34,
     "metadata": {},
     "output_type": "execute_result"
    }
   ],
   "source": [
    "df_cleaned_num_cat.isnull().sum()"
   ]
  },
  {
   "cell_type": "code",
   "execution_count": 35,
   "metadata": {},
   "outputs": [],
   "source": [
    "df_cleaned_num_cat.dropna(inplace=True)"
   ]
  },
  {
   "cell_type": "code",
   "execution_count": 36,
   "metadata": {},
   "outputs": [
    {
     "data": {
      "text/plain": [
       "Index(['DEAL_DATE', 'DAYS_FROM_DEAL', 'DEAL_SIZE', 'PRE_MONEY_VALUATION',\n",
       "       'POST_VALUATION', 'RAISED_TO_DATE', 'TRAIN_OR_TEST', 'COMPANIES',\n",
       "       'FOUNDED_YEAR', 'DEAL_MONTH', 'PRIMARY_INDUSTRY_SECTOR',\n",
       "       'Market Size Estimate', 'S&M Prior Role', 'Finance Prior Role',\n",
       "       'Valuation Tier', 'Quality Deals Investors', 'Firms: Best Investors',\n",
       "       'Firm: Worst', 'Top Law Firm', 'IMPLIED_RETURN'],\n",
       "      dtype='object')"
      ]
     },
     "execution_count": 36,
     "metadata": {},
     "output_type": "execute_result"
    }
   ],
   "source": [
    "df_cleaned_num_cat.drop('YEAR_FOUNDED', axis=1, inplace=True)\n",
    "df_cleaned_num_cat.columns"
   ]
  },
  {
   "cell_type": "code",
   "execution_count": 37,
   "metadata": {},
   "outputs": [],
   "source": [
    "for var in categorical_vars:\n",
    "    df_cleaned_num_cat[var] = df_cleaned_num_cat[var].astype('object')\n",
    "\n",
    "\n",
    "for var in numerical_vars:\n",
    "    df_cleaned_num_cat[var] = df_cleaned_num_cat[var].astype('str').astype('float')\n",
    "\n",
    "df_cleaned_num_cat['IMPLIED_RETURN'] = df_cleaned_num_cat['IMPLIED_RETURN'].astype('float')"
   ]
  },
  {
   "cell_type": "markdown",
   "metadata": {},
   "source": [
    "#### Final dataset used to train and test the model"
   ]
  },
  {
   "cell_type": "code",
   "execution_count": 38,
   "metadata": {},
   "outputs": [],
   "source": [
    "df_cleaned_num_cat.to_csv('../datasets/data_cleaned_0912.csv', index=False)"
   ]
  },
  {
   "cell_type": "code",
   "execution_count": 39,
   "metadata": {},
   "outputs": [
    {
     "data": {
      "text/plain": [
       "((1625, 19), (473, 19))"
      ]
     },
     "execution_count": 39,
     "metadata": {},
     "output_type": "execute_result"
    }
   ],
   "source": [
    "# Extracting the train datapoints\n",
    "df_train = df_cleaned_num_cat[df_cleaned_num_cat['TRAIN_OR_TEST']=='Train']\n",
    "df_test = df_cleaned_num_cat[df_cleaned_num_cat['TRAIN_OR_TEST']=='Test']\n",
    "\n",
    "df_train.drop('TRAIN_OR_TEST', axis=1, inplace=True)\n",
    "df_test.drop('TRAIN_OR_TEST', axis=1, inplace=True)\n",
    "\n",
    "df_train.shape, df_test.shape"
   ]
  },
  {
   "cell_type": "markdown",
   "metadata": {},
   "source": [
    "#### Splitting the data into train and test sets"
   ]
  },
  {
   "cell_type": "code",
   "execution_count": 40,
   "metadata": {},
   "outputs": [
    {
     "data": {
      "text/plain": [
       "((1625, 17), (473, 17))"
      ]
     },
     "execution_count": 40,
     "metadata": {},
     "output_type": "execute_result"
    }
   ],
   "source": [
    "X_train, y_train = df_train.drop(['DEAL_DATE', 'IMPLIED_RETURN'], axis=1), df_train['IMPLIED_RETURN']\n",
    "X_test, y_test = df_test.drop(['DEAL_DATE', 'IMPLIED_RETURN'], axis=1), df_test['IMPLIED_RETURN']\n",
    "\n",
    "X_train.shape, X_test.shape"
   ]
  },
  {
   "cell_type": "code",
   "execution_count": 41,
   "metadata": {},
   "outputs": [],
   "source": [
    "# Encoding categorical variables\n",
    "cat_cols_to_encode = ['PRIMARY_INDUSTRY_SECTOR']\n",
    "\n",
    "label_encoders = {}\n",
    "\n",
    "for col in cat_cols_to_encode:\n",
    "    \n",
    "    le = LabelEncoder()\n",
    "    le.fit(X_train[col])\n",
    "\n",
    "    X_train[col] = le.transform(X_train[col])\n",
    "    X_test[col] = le.transform(X_test[col])\n",
    "\n",
    "    label_encoders[col] = le"
   ]
  },
  {
   "cell_type": "markdown",
   "metadata": {},
   "source": [
    "## Baseline Model Building\n",
    "\n",
    "#### Random Forest Regressor"
   ]
  },
  {
   "cell_type": "code",
   "execution_count": 42,
   "metadata": {},
   "outputs": [
    {
     "data": {
      "text/html": [
       "<style>#sk-container-id-2 {color: black;}#sk-container-id-2 pre{padding: 0;}#sk-container-id-2 div.sk-toggleable {background-color: white;}#sk-container-id-2 label.sk-toggleable__label {cursor: pointer;display: block;width: 100%;margin-bottom: 0;padding: 0.3em;box-sizing: border-box;text-align: center;}#sk-container-id-2 label.sk-toggleable__label-arrow:before {content: \"▸\";float: left;margin-right: 0.25em;color: #696969;}#sk-container-id-2 label.sk-toggleable__label-arrow:hover:before {color: black;}#sk-container-id-2 div.sk-estimator:hover label.sk-toggleable__label-arrow:before {color: black;}#sk-container-id-2 div.sk-toggleable__content {max-height: 0;max-width: 0;overflow: hidden;text-align: left;background-color: #f0f8ff;}#sk-container-id-2 div.sk-toggleable__content pre {margin: 0.2em;color: black;border-radius: 0.25em;background-color: #f0f8ff;}#sk-container-id-2 input.sk-toggleable__control:checked~div.sk-toggleable__content {max-height: 200px;max-width: 100%;overflow: auto;}#sk-container-id-2 input.sk-toggleable__control:checked~label.sk-toggleable__label-arrow:before {content: \"▾\";}#sk-container-id-2 div.sk-estimator input.sk-toggleable__control:checked~label.sk-toggleable__label {background-color: #d4ebff;}#sk-container-id-2 div.sk-label input.sk-toggleable__control:checked~label.sk-toggleable__label {background-color: #d4ebff;}#sk-container-id-2 input.sk-hidden--visually {border: 0;clip: rect(1px 1px 1px 1px);clip: rect(1px, 1px, 1px, 1px);height: 1px;margin: -1px;overflow: hidden;padding: 0;position: absolute;width: 1px;}#sk-container-id-2 div.sk-estimator {font-family: monospace;background-color: #f0f8ff;border: 1px dotted black;border-radius: 0.25em;box-sizing: border-box;margin-bottom: 0.5em;}#sk-container-id-2 div.sk-estimator:hover {background-color: #d4ebff;}#sk-container-id-2 div.sk-parallel-item::after {content: \"\";width: 100%;border-bottom: 1px solid gray;flex-grow: 1;}#sk-container-id-2 div.sk-label:hover label.sk-toggleable__label {background-color: #d4ebff;}#sk-container-id-2 div.sk-serial::before {content: \"\";position: absolute;border-left: 1px solid gray;box-sizing: border-box;top: 0;bottom: 0;left: 50%;z-index: 0;}#sk-container-id-2 div.sk-serial {display: flex;flex-direction: column;align-items: center;background-color: white;padding-right: 0.2em;padding-left: 0.2em;position: relative;}#sk-container-id-2 div.sk-item {position: relative;z-index: 1;}#sk-container-id-2 div.sk-parallel {display: flex;align-items: stretch;justify-content: center;background-color: white;position: relative;}#sk-container-id-2 div.sk-item::before, #sk-container-id-2 div.sk-parallel-item::before {content: \"\";position: absolute;border-left: 1px solid gray;box-sizing: border-box;top: 0;bottom: 0;left: 50%;z-index: -1;}#sk-container-id-2 div.sk-parallel-item {display: flex;flex-direction: column;z-index: 1;position: relative;background-color: white;}#sk-container-id-2 div.sk-parallel-item:first-child::after {align-self: flex-end;width: 50%;}#sk-container-id-2 div.sk-parallel-item:last-child::after {align-self: flex-start;width: 50%;}#sk-container-id-2 div.sk-parallel-item:only-child::after {width: 0;}#sk-container-id-2 div.sk-dashed-wrapped {border: 1px dashed gray;margin: 0 0.4em 0.5em 0.4em;box-sizing: border-box;padding-bottom: 0.4em;background-color: white;}#sk-container-id-2 div.sk-label label {font-family: monospace;font-weight: bold;display: inline-block;line-height: 1.2em;}#sk-container-id-2 div.sk-label-container {text-align: center;}#sk-container-id-2 div.sk-container {/* jupyter's `normalize.less` sets `[hidden] { display: none; }` but bootstrap.min.css set `[hidden] { display: none !important; }` so we also need the `!important` here to be able to override the default hidden behavior on the sphinx rendered scikit-learn.org. See: https://github.com/scikit-learn/scikit-learn/issues/21755 */display: inline-block !important;position: relative;}#sk-container-id-2 div.sk-text-repr-fallback {display: none;}</style><div id=\"sk-container-id-2\" class=\"sk-top-container\"><div class=\"sk-text-repr-fallback\"><pre>RandomForestRegressor(n_estimators=120, random_state=2023)</pre><b>In a Jupyter environment, please rerun this cell to show the HTML representation or trust the notebook. <br />On GitHub, the HTML representation is unable to render, please try loading this page with nbviewer.org.</b></div><div class=\"sk-container\" hidden><div class=\"sk-item\"><div class=\"sk-estimator sk-toggleable\"><input class=\"sk-toggleable__control sk-hidden--visually\" id=\"sk-estimator-id-2\" type=\"checkbox\" checked><label for=\"sk-estimator-id-2\" class=\"sk-toggleable__label sk-toggleable__label-arrow\">RandomForestRegressor</label><div class=\"sk-toggleable__content\"><pre>RandomForestRegressor(n_estimators=120, random_state=2023)</pre></div></div></div></div></div>"
      ],
      "text/plain": [
       "RandomForestRegressor(n_estimators=120, random_state=2023)"
      ]
     },
     "execution_count": 42,
     "metadata": {},
     "output_type": "execute_result"
    }
   ],
   "source": [
    "rf = RandomForestRegressor(n_estimators=120, random_state=2023)\n",
    "rf.fit(X_train.drop('COMPANIES', axis=1), y_train)"
   ]
  },
  {
   "cell_type": "markdown",
   "metadata": {},
   "source": [
    "#### Model Evaluation on Train set"
   ]
  },
  {
   "cell_type": "code",
   "execution_count": 43,
   "metadata": {},
   "outputs": [
    {
     "name": "stdout",
     "output_type": "stream",
     "text": [
      "Mean Squared Error(MSE): 32.117378082655584\n",
      "\n",
      "Root Mean Squared Error(RMSE): 5.667219607766721\n",
      "\n",
      "Mean Absolute Error(MAE): 1.8335650736186866\n",
      "\n"
     ]
    }
   ],
   "source": [
    "y_train_predictions = rf.predict(X_train.drop('COMPANIES', axis=1))\n",
    "\n",
    "mse_train = mean_squared_error(y_train, y_train_predictions)\n",
    "print(f\"Mean Squared Error(MSE): {mse_train}\\n\")\n",
    "\n",
    "rmse_train = np.sqrt(mse_train)\n",
    "print(f\"Root Mean Squared Error(RMSE): {rmse_train}\\n\")\n",
    "\n",
    "mae_train = mean_absolute_error(y_train, y_train_predictions)\n",
    "print(f\"Mean Absolute Error(MAE): {mae_train}\\n\")"
   ]
  },
  {
   "cell_type": "markdown",
   "metadata": {},
   "source": [
    "#### Model Evaluation on Test set"
   ]
  },
  {
   "cell_type": "code",
   "execution_count": 44,
   "metadata": {},
   "outputs": [
    {
     "name": "stdout",
     "output_type": "stream",
     "text": [
      "Mean Squared Error(MSE): 87.16560688505758\n",
      "\n",
      "Root Mean Squared Error(RMSE): 9.336252293348632\n",
      "\n",
      "Mean Absolute Error(MAE): 4.166229740336452\n",
      "\n"
     ]
    }
   ],
   "source": [
    "y_test_predictions = rf.predict(X_test.drop('COMPANIES', axis=1))\n",
    "\n",
    "mse_test = mean_squared_error(y_test, y_test_predictions)\n",
    "print(f\"Mean Squared Error(MSE): {mse_test}\\n\")\n",
    "\n",
    "rmse_test = np.sqrt(mse_test)\n",
    "print(f\"Root Mean Squared Error(RMSE): {rmse_test}\\n\")\n",
    "\n",
    "mae_test = mean_absolute_error(y_test, y_test_predictions)\n",
    "print(f\"Mean Absolute Error(MAE): {mae_test}\\n\")"
   ]
  },
  {
   "cell_type": "markdown",
   "metadata": {},
   "source": [
    "## Saving the predictions"
   ]
  },
  {
   "cell_type": "code",
   "execution_count": 45,
   "metadata": {},
   "outputs": [],
   "source": [
    "# Create a DataFrame with true values, predicted values, and a column from X_test\n",
    "predicted_results = pd.DataFrame({\n",
    "    'Company': X_test['COMPANIES'].values,\n",
    "    'Actual Return': y_test,\n",
    "    'Predicted Return': y_test_predictions, \n",
    "})"
   ]
  },
  {
   "cell_type": "code",
   "execution_count": 46,
   "metadata": {},
   "outputs": [],
   "source": [
    "# Assuming your DataFrame is named 'predicted_results' and has columns 'actual' and 'predicted'\n",
    "predicted_results['Actual Rank'] = predicted_results['Actual Return'].rank(ascending=False, method='dense')\n",
    "predicted_results['Predicted Rank'] = predicted_results['Predicted Return'].rank(ascending=False, method='dense')\n",
    "\n",
    "# Convert the ranks to integers\n",
    "predicted_results['Actual Rank'] = predicted_results['Actual Rank'].astype(int)\n",
    "predicted_results['Predicted Rank'] = predicted_results['Predicted Rank'].astype(int)"
   ]
  },
  {
   "cell_type": "code",
   "execution_count": 47,
   "metadata": {},
   "outputs": [
    {
     "data": {
      "text/html": [
       "<div>\n",
       "<style scoped>\n",
       "    .dataframe tbody tr th:only-of-type {\n",
       "        vertical-align: middle;\n",
       "    }\n",
       "\n",
       "    .dataframe tbody tr th {\n",
       "        vertical-align: top;\n",
       "    }\n",
       "\n",
       "    .dataframe thead th {\n",
       "        text-align: right;\n",
       "    }\n",
       "</style>\n",
       "<table border=\"1\" class=\"dataframe\">\n",
       "  <thead>\n",
       "    <tr style=\"text-align: right;\">\n",
       "      <th></th>\n",
       "      <th>Company</th>\n",
       "      <th>Actual Return</th>\n",
       "      <th>Predicted Return</th>\n",
       "      <th>Actual Rank</th>\n",
       "      <th>Predicted Rank</th>\n",
       "    </tr>\n",
       "  </thead>\n",
       "  <tbody>\n",
       "    <tr>\n",
       "      <th>2070</th>\n",
       "      <td>Lendable (London)</td>\n",
       "      <td>100.691246</td>\n",
       "      <td>2.742442</td>\n",
       "      <td>1</td>\n",
       "      <td>242</td>\n",
       "    </tr>\n",
       "    <tr>\n",
       "      <th>2186</th>\n",
       "      <td>Socure</td>\n",
       "      <td>44.234405</td>\n",
       "      <td>4.294435</td>\n",
       "      <td>2</td>\n",
       "      <td>159</td>\n",
       "    </tr>\n",
       "    <tr>\n",
       "      <th>1784</th>\n",
       "      <td>Aviatrix</td>\n",
       "      <td>41.600000</td>\n",
       "      <td>14.448822</td>\n",
       "      <td>3</td>\n",
       "      <td>28</td>\n",
       "    </tr>\n",
       "    <tr>\n",
       "      <th>2081</th>\n",
       "      <td>Whoop</td>\n",
       "      <td>38.749741</td>\n",
       "      <td>4.574037</td>\n",
       "      <td>4</td>\n",
       "      <td>147</td>\n",
       "    </tr>\n",
       "    <tr>\n",
       "      <th>2093</th>\n",
       "      <td>Weights &amp; Biases</td>\n",
       "      <td>35.880000</td>\n",
       "      <td>7.473577</td>\n",
       "      <td>5</td>\n",
       "      <td>82</td>\n",
       "    </tr>\n",
       "    <tr>\n",
       "      <th>2020</th>\n",
       "      <td>Root Insurance (NAS: ROOT)</td>\n",
       "      <td>34.627885</td>\n",
       "      <td>4.410215</td>\n",
       "      <td>6</td>\n",
       "      <td>154</td>\n",
       "    </tr>\n",
       "    <tr>\n",
       "      <th>2071</th>\n",
       "      <td>Better (NAS: BETR)</td>\n",
       "      <td>31.500000</td>\n",
       "      <td>4.578270</td>\n",
       "      <td>7</td>\n",
       "      <td>146</td>\n",
       "    </tr>\n",
       "    <tr>\n",
       "      <th>1786</th>\n",
       "      <td>Mux</td>\n",
       "      <td>28.848946</td>\n",
       "      <td>14.845385</td>\n",
       "      <td>8</td>\n",
       "      <td>26</td>\n",
       "    </tr>\n",
       "    <tr>\n",
       "      <th>1787</th>\n",
       "      <td>DataRobot</td>\n",
       "      <td>26.828270</td>\n",
       "      <td>21.933786</td>\n",
       "      <td>9</td>\n",
       "      <td>9</td>\n",
       "    </tr>\n",
       "    <tr>\n",
       "      <th>1790</th>\n",
       "      <td>Deel</td>\n",
       "      <td>21.043478</td>\n",
       "      <td>6.424968</td>\n",
       "      <td>10</td>\n",
       "      <td>94</td>\n",
       "    </tr>\n",
       "    <tr>\n",
       "      <th>1791</th>\n",
       "      <td>Pipedrive</td>\n",
       "      <td>18.947368</td>\n",
       "      <td>7.049248</td>\n",
       "      <td>11</td>\n",
       "      <td>86</td>\n",
       "    </tr>\n",
       "    <tr>\n",
       "      <th>2094</th>\n",
       "      <td>Starburst</td>\n",
       "      <td>18.611111</td>\n",
       "      <td>2.583623</td>\n",
       "      <td>12</td>\n",
       "      <td>259</td>\n",
       "    </tr>\n",
       "    <tr>\n",
       "      <th>1792</th>\n",
       "      <td>Shippo</td>\n",
       "      <td>15.294118</td>\n",
       "      <td>18.758218</td>\n",
       "      <td>13</td>\n",
       "      <td>15</td>\n",
       "    </tr>\n",
       "    <tr>\n",
       "      <th>1793</th>\n",
       "      <td>Lattice</td>\n",
       "      <td>15.000000</td>\n",
       "      <td>2.486096</td>\n",
       "      <td>14</td>\n",
       "      <td>266</td>\n",
       "    </tr>\n",
       "    <tr>\n",
       "      <th>1794</th>\n",
       "      <td>LeanIX</td>\n",
       "      <td>13.624070</td>\n",
       "      <td>3.419212</td>\n",
       "      <td>15</td>\n",
       "      <td>198</td>\n",
       "    </tr>\n",
       "    <tr>\n",
       "      <th>1795</th>\n",
       "      <td>Algolia</td>\n",
       "      <td>13.236791</td>\n",
       "      <td>8.751407</td>\n",
       "      <td>16</td>\n",
       "      <td>61</td>\n",
       "    </tr>\n",
       "    <tr>\n",
       "      <th>1797</th>\n",
       "      <td>Miro</td>\n",
       "      <td>12.551724</td>\n",
       "      <td>2.241039</td>\n",
       "      <td>17</td>\n",
       "      <td>288</td>\n",
       "    </tr>\n",
       "    <tr>\n",
       "      <th>2190</th>\n",
       "      <td>Built Technologies</td>\n",
       "      <td>11.142857</td>\n",
       "      <td>4.491506</td>\n",
       "      <td>18</td>\n",
       "      <td>151</td>\n",
       "    </tr>\n",
       "    <tr>\n",
       "      <th>2025</th>\n",
       "      <td>Density</td>\n",
       "      <td>10.920000</td>\n",
       "      <td>1.608605</td>\n",
       "      <td>19</td>\n",
       "      <td>324</td>\n",
       "    </tr>\n",
       "    <tr>\n",
       "      <th>2026</th>\n",
       "      <td>Ethos Life</td>\n",
       "      <td>10.400000</td>\n",
       "      <td>6.576403</td>\n",
       "      <td>20</td>\n",
       "      <td>91</td>\n",
       "    </tr>\n",
       "  </tbody>\n",
       "</table>\n",
       "</div>"
      ],
      "text/plain": [
       "                         Company  Actual Return  Predicted Return  \\\n",
       "2070           Lendable (London)     100.691246          2.742442   \n",
       "2186                      Socure      44.234405          4.294435   \n",
       "1784                    Aviatrix      41.600000         14.448822   \n",
       "2081                       Whoop      38.749741          4.574037   \n",
       "2093            Weights & Biases      35.880000          7.473577   \n",
       "2020  Root Insurance (NAS: ROOT)      34.627885          4.410215   \n",
       "2071          Better (NAS: BETR)      31.500000          4.578270   \n",
       "1786                         Mux      28.848946         14.845385   \n",
       "1787                   DataRobot      26.828270         21.933786   \n",
       "1790                        Deel      21.043478          6.424968   \n",
       "1791                   Pipedrive      18.947368          7.049248   \n",
       "2094                   Starburst      18.611111          2.583623   \n",
       "1792                      Shippo      15.294118         18.758218   \n",
       "1793                     Lattice      15.000000          2.486096   \n",
       "1794                      LeanIX      13.624070          3.419212   \n",
       "1795                     Algolia      13.236791          8.751407   \n",
       "1797                        Miro      12.551724          2.241039   \n",
       "2190          Built Technologies      11.142857          4.491506   \n",
       "2025                     Density      10.920000          1.608605   \n",
       "2026                  Ethos Life      10.400000          6.576403   \n",
       "\n",
       "      Actual Rank  Predicted Rank  \n",
       "2070            1             242  \n",
       "2186            2             159  \n",
       "1784            3              28  \n",
       "2081            4             147  \n",
       "2093            5              82  \n",
       "2020            6             154  \n",
       "2071            7             146  \n",
       "1786            8              26  \n",
       "1787            9               9  \n",
       "1790           10              94  \n",
       "1791           11              86  \n",
       "2094           12             259  \n",
       "1792           13              15  \n",
       "1793           14             266  \n",
       "1794           15             198  \n",
       "1795           16              61  \n",
       "1797           17             288  \n",
       "2190           18             151  \n",
       "2025           19             324  \n",
       "2026           20              91  "
      ]
     },
     "execution_count": 47,
     "metadata": {},
     "output_type": "execute_result"
    }
   ],
   "source": [
    "predicted_results = predicted_results.sort_values(by='Actual Rank', ascending=True)\n",
    "predicted_results.head(20)"
   ]
  },
  {
   "cell_type": "code",
   "execution_count": 48,
   "metadata": {},
   "outputs": [],
   "source": [
    "predicted_results.to_excel('predicted_results_random_forest_regressor_baseline.xlsx', index=False)"
   ]
  },
  {
   "cell_type": "markdown",
   "metadata": {},
   "source": [
    "## Saving Feature Importances Assigned by Model"
   ]
  },
  {
   "cell_type": "code",
   "execution_count": 51,
   "metadata": {},
   "outputs": [],
   "source": [
    "feature_importances = rf.feature_importances_\n",
    "\n",
    "x_train = X_train.drop('COMPANIES', axis=1)\n",
    "\n",
    "feature_importance_df = pd.DataFrame({\n",
    "    'Feature': x_train.columns,  # Assuming X_train is your training data\n",
    "    'Importance': feature_importances\n",
    "})\n",
    "\n",
    "feature_importance_df = feature_importance_df.sort_values(by='Importance', ascending=False)"
   ]
  },
  {
   "cell_type": "code",
   "execution_count": 54,
   "metadata": {},
   "outputs": [
    {
     "data": {
      "text/html": [
       "<div>\n",
       "<style scoped>\n",
       "    .dataframe tbody tr th:only-of-type {\n",
       "        vertical-align: middle;\n",
       "    }\n",
       "\n",
       "    .dataframe tbody tr th {\n",
       "        vertical-align: top;\n",
       "    }\n",
       "\n",
       "    .dataframe thead th {\n",
       "        text-align: right;\n",
       "    }\n",
       "</style>\n",
       "<table border=\"1\" class=\"dataframe\">\n",
       "  <thead>\n",
       "    <tr style=\"text-align: right;\">\n",
       "      <th></th>\n",
       "      <th>Feature</th>\n",
       "      <th>Importance</th>\n",
       "    </tr>\n",
       "  </thead>\n",
       "  <tbody>\n",
       "    <tr>\n",
       "      <th>4</th>\n",
       "      <td>RAISED_TO_DATE</td>\n",
       "      <td>0.248435</td>\n",
       "    </tr>\n",
       "    <tr>\n",
       "      <th>0</th>\n",
       "      <td>DAYS_FROM_DEAL</td>\n",
       "      <td>0.214312</td>\n",
       "    </tr>\n",
       "    <tr>\n",
       "      <th>1</th>\n",
       "      <td>DEAL_SIZE</td>\n",
       "      <td>0.133578</td>\n",
       "    </tr>\n",
       "    <tr>\n",
       "      <th>3</th>\n",
       "      <td>POST_VALUATION</td>\n",
       "      <td>0.112391</td>\n",
       "    </tr>\n",
       "    <tr>\n",
       "      <th>8</th>\n",
       "      <td>Market Size Estimate</td>\n",
       "      <td>0.087376</td>\n",
       "    </tr>\n",
       "    <tr>\n",
       "      <th>5</th>\n",
       "      <td>FOUNDED_YEAR</td>\n",
       "      <td>0.047485</td>\n",
       "    </tr>\n",
       "    <tr>\n",
       "      <th>2</th>\n",
       "      <td>PRE_MONEY_VALUATION</td>\n",
       "      <td>0.040379</td>\n",
       "    </tr>\n",
       "    <tr>\n",
       "      <th>6</th>\n",
       "      <td>DEAL_MONTH</td>\n",
       "      <td>0.031552</td>\n",
       "    </tr>\n",
       "    <tr>\n",
       "      <th>7</th>\n",
       "      <td>PRIMARY_INDUSTRY_SECTOR</td>\n",
       "      <td>0.022342</td>\n",
       "    </tr>\n",
       "    <tr>\n",
       "      <th>13</th>\n",
       "      <td>Firms: Best Investors</td>\n",
       "      <td>0.010839</td>\n",
       "    </tr>\n",
       "    <tr>\n",
       "      <th>9</th>\n",
       "      <td>S&amp;M Prior Role</td>\n",
       "      <td>0.010706</td>\n",
       "    </tr>\n",
       "    <tr>\n",
       "      <th>11</th>\n",
       "      <td>Valuation Tier</td>\n",
       "      <td>0.009675</td>\n",
       "    </tr>\n",
       "    <tr>\n",
       "      <th>15</th>\n",
       "      <td>Top Law Firm</td>\n",
       "      <td>0.009638</td>\n",
       "    </tr>\n",
       "    <tr>\n",
       "      <th>10</th>\n",
       "      <td>Finance Prior Role</td>\n",
       "      <td>0.008248</td>\n",
       "    </tr>\n",
       "    <tr>\n",
       "      <th>14</th>\n",
       "      <td>Firm: Worst</td>\n",
       "      <td>0.007073</td>\n",
       "    </tr>\n",
       "    <tr>\n",
       "      <th>12</th>\n",
       "      <td>Quality Deals Investors</td>\n",
       "      <td>0.005972</td>\n",
       "    </tr>\n",
       "  </tbody>\n",
       "</table>\n",
       "</div>"
      ],
      "text/plain": [
       "                    Feature  Importance\n",
       "4            RAISED_TO_DATE    0.248435\n",
       "0            DAYS_FROM_DEAL    0.214312\n",
       "1                 DEAL_SIZE    0.133578\n",
       "3            POST_VALUATION    0.112391\n",
       "8      Market Size Estimate    0.087376\n",
       "5              FOUNDED_YEAR    0.047485\n",
       "2       PRE_MONEY_VALUATION    0.040379\n",
       "6                DEAL_MONTH    0.031552\n",
       "7   PRIMARY_INDUSTRY_SECTOR    0.022342\n",
       "13    Firms: Best Investors    0.010839\n",
       "9            S&M Prior Role    0.010706\n",
       "11           Valuation Tier    0.009675\n",
       "15             Top Law Firm    0.009638\n",
       "10       Finance Prior Role    0.008248\n",
       "14              Firm: Worst    0.007073\n",
       "12  Quality Deals Investors    0.005972"
      ]
     },
     "execution_count": 54,
     "metadata": {},
     "output_type": "execute_result"
    }
   ],
   "source": [
    "feature_importance_df"
   ]
  },
  {
   "cell_type": "code",
   "execution_count": 50,
   "metadata": {},
   "outputs": [],
   "source": [
    "feature_importance_df.to_excel('feature_importance_df_random_forest_regressor_baseline.xlsx', index=False)"
   ]
  }
 ],
 "metadata": {
  "kernelspec": {
   "display_name": "openv",
   "language": "python",
   "name": "python3"
  },
  "language_info": {
   "codemirror_mode": {
    "name": "ipython",
    "version": 3
   },
   "file_extension": ".py",
   "mimetype": "text/x-python",
   "name": "python",
   "nbconvert_exporter": "python",
   "pygments_lexer": "ipython3",
   "version": "3.11.4"
  },
  "orig_nbformat": 4
 },
 "nbformat": 4,
 "nbformat_minor": 2
}
